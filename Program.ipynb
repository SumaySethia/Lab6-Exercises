{
 "cells": [
  {
   "cell_type": "code",
   "execution_count": 12,
   "id": "2446b263-02d4-4c14-b465-16ee96fb4e9d",
   "metadata": {},
   "outputs": [
    {
     "name": "stdin",
     "output_type": "stream",
     "text": [
      "What is your name? Sumay\n",
      "How old are you? 44\n"
     ]
    },
    {
     "name": "stdout",
     "output_type": "stream",
     "text": [
      "Hello, Sumay you are old enough to drink.\n"
     ]
    }
   ],
   "source": [
    "name = input(\"What is your name?\")\n",
    "age = input(\"How old are you?\")\n",
    "agenum = int(age)\n",
    "if agenum < 21:\n",
    "    print(\"Hello,\" , name, \"you are not old enough to drink.\")\n",
    "else:\n",
    "    print(\"Hello,\" , name, \"you are old enough to drink.\")"
   ]
  },
  {
   "cell_type": "code",
   "execution_count": null,
   "id": "d104224b-2970-4b8a-aef4-960c5e975f1f",
   "metadata": {},
   "outputs": [],
   "source": []
  }
 ],
 "metadata": {
  "kernelspec": {
   "display_name": "Python 3 (ipykernel)",
   "language": "python",
   "name": "python3"
  },
  "language_info": {
   "codemirror_mode": {
    "name": "ipython",
    "version": 3
   },
   "file_extension": ".py",
   "mimetype": "text/x-python",
   "name": "python",
   "nbconvert_exporter": "python",
   "pygments_lexer": "ipython3",
   "version": "3.11.5"
  }
 },
 "nbformat": 4,
 "nbformat_minor": 5
}
